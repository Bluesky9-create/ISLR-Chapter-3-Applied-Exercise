{
 "cells": [
  {
   "cell_type": "code",
   "execution_count": 2,
   "metadata": {},
   "outputs": [],
   "source": [
    "import pandas as pd\n",
    "import numpy as np\n",
    "import matplotlib.pyplot as plt\n",
    "import seaborn as seabornInstance \n",
    "from sklearn.model_selection import train_test_split \n",
    "from sklearn.linear_model import LinearRegression\n",
    "from sklearn import metrics\n",
    "import statsmodels.api as sm\n",
    "from patsy import dmatrices\n",
    "import random as rn"
   ]
  },
  {
   "cell_type": "code",
   "execution_count": 3,
   "metadata": {},
   "outputs": [],
   "source": [
    "rn.seed(1)"
   ]
  },
  {
   "cell_type": "code",
   "execution_count": 4,
   "metadata": {},
   "outputs": [],
   "source": [
    "x=np.random.normal(0,1,100)"
   ]
  },
  {
   "cell_type": "code",
   "execution_count": 5,
   "metadata": {},
   "outputs": [],
   "source": [
    "y=2*x+np.random.normal(0,1,100)"
   ]
  },
  {
   "cell_type": "code",
   "execution_count": 6,
   "metadata": {},
   "outputs": [
    {
     "name": "stdout",
     "output_type": "stream",
     "text": [
      "[-4.71651026 -1.68088775 -1.34530079 -4.41456726 -0.01975152  3.15803804\n",
      "  0.77714505 -0.16076931  1.38057139  4.06158039  2.67074553 -1.02425778\n",
      " -2.73595311  2.86494982  1.86693714  2.62420329  0.69350235 -1.1631713\n",
      "  1.91999927  0.31606678  2.63734658 -0.81491026 -1.54874281 -1.06258625\n",
      "  0.98453653 -0.55674876 -2.63152433 -2.36394866  1.07272207 -0.53746285\n",
      " -1.32191479  1.2546481  -1.07712069 -1.57858422 -2.3275202  -0.65735601\n",
      "  0.52960363  2.29536678 -0.77817533  0.39487975  2.3008217   2.25567349\n",
      " -0.59181607  0.1685254  -3.34687611 -3.13745064  4.00920032 -1.68302099\n",
      " -0.95668788 -1.35927841 -3.46649665 -1.48449819  1.93104009 -3.7065805\n",
      " -2.73411779  1.16593237  3.41641749 -1.23432604 -0.30805966 -1.23325212\n",
      "  0.61923616 -2.1656263  -0.61700307 -3.36932719 -0.93251565 -1.19456325\n",
      " -1.0344474  -1.31897216 -2.54567296  1.09335179  1.91188432  0.57442753\n",
      "  0.97909414  1.63367562  5.08908178  2.82209319  3.17144534 -0.05858171\n",
      "  0.10478873 -2.02117145  2.80783916  2.21430373  0.62331959 -0.49166014\n",
      " -0.47642042 -0.57576764 -0.1574764  -4.09968126  5.46246173 -1.89896547\n",
      " -1.40129468  2.99645636 -1.85546592 -2.85229237  2.95045185 -0.7693202\n",
      "  1.46472063  2.36924296 -2.99692626  2.43204404]\n"
     ]
    }
   ],
   "source": [
    "print(y)"
   ]
  },
  {
   "cell_type": "code",
   "execution_count": 7,
   "metadata": {},
   "outputs": [],
   "source": [
    "results = sm.OLS(y, x).fit()\n",
    "\n"
   ]
  },
  {
   "cell_type": "code",
   "execution_count": 8,
   "metadata": {},
   "outputs": [
    {
     "name": "stdout",
     "output_type": "stream",
     "text": [
      "                                 OLS Regression Results                                \n",
      "=======================================================================================\n",
      "Dep. Variable:                      y   R-squared (uncentered):                   0.835\n",
      "Model:                            OLS   Adj. R-squared (uncentered):              0.833\n",
      "Method:                 Least Squares   F-statistic:                              501.0\n",
      "Date:                Tue, 13 Apr 2021   Prob (F-statistic):                    1.61e-40\n",
      "Time:                        16:53:17   Log-Likelihood:                         -129.55\n",
      "No. Observations:                 100   AIC:                                      261.1\n",
      "Df Residuals:                      99   BIC:                                      263.7\n",
      "Df Model:                           1                                                  \n",
      "Covariance Type:            nonrobust                                                  \n",
      "==============================================================================\n",
      "                 coef    std err          t      P>|t|      [0.025      0.975]\n",
      "------------------------------------------------------------------------------\n",
      "x1             2.0147      0.090     22.384      0.000       1.836       2.193\n",
      "==============================================================================\n",
      "Omnibus:                        1.445   Durbin-Watson:                   1.922\n",
      "Prob(Omnibus):                  0.486   Jarque-Bera (JB):                1.278\n",
      "Skew:                           0.118   Prob(JB):                        0.528\n",
      "Kurtosis:                       2.499   Cond. No.                         1.00\n",
      "==============================================================================\n",
      "\n",
      "Notes:\n",
      "[1] R² is computed without centering (uncentered) since the model does not contain a constant.\n",
      "[2] Standard Errors assume that the covariance matrix of the errors is correctly specified.\n"
     ]
    }
   ],
   "source": [
    "print(results.summary())"
   ]
  },
  {
   "cell_type": "markdown",
   "metadata": {},
   "source": [
    "#Coefficient estimate is 1.9002 without intercept.\n",
    "\n",
    "\n",
    "std error is 0.114 .\n",
    "\n",
    "t-stat is 18.515\n",
    "\n",
    " "
   ]
  },
  {
   "cell_type": "code",
   "execution_count": 9,
   "metadata": {},
   "outputs": [],
   "source": [
    "results2 = sm.OLS(x,y).fit()"
   ]
  },
  {
   "cell_type": "code",
   "execution_count": 10,
   "metadata": {},
   "outputs": [
    {
     "name": "stdout",
     "output_type": "stream",
     "text": [
      "                                 OLS Regression Results                                \n",
      "=======================================================================================\n",
      "Dep. Variable:                      y   R-squared (uncentered):                   0.835\n",
      "Model:                            OLS   Adj. R-squared (uncentered):              0.833\n",
      "Method:                 Least Squares   F-statistic:                              501.0\n",
      "Date:                Tue, 13 Apr 2021   Prob (F-statistic):                    1.61e-40\n",
      "Time:                        16:53:17   Log-Likelihood:                         -50.488\n",
      "No. Observations:                 100   AIC:                                      103.0\n",
      "Df Residuals:                      99   BIC:                                      105.6\n",
      "Df Model:                           1                                                  \n",
      "Covariance Type:            nonrobust                                                  \n",
      "==============================================================================\n",
      "                 coef    std err          t      P>|t|      [0.025      0.975]\n",
      "------------------------------------------------------------------------------\n",
      "x1             0.4145      0.019     22.384      0.000       0.378       0.451\n",
      "==============================================================================\n",
      "Omnibus:                        0.494   Durbin-Watson:                   1.979\n",
      "Prob(Omnibus):                  0.781   Jarque-Bera (JB):                0.634\n",
      "Skew:                           0.056   Prob(JB):                        0.728\n",
      "Kurtosis:                       2.626   Cond. No.                         1.00\n",
      "==============================================================================\n",
      "\n",
      "Notes:\n",
      "[1] R² is computed without centering (uncentered) since the model does not contain a constant.\n",
      "[2] Standard Errors assume that the covariance matrix of the errors is correctly specified.\n"
     ]
    }
   ],
   "source": [
    "print(results2.summary())"
   ]
  },
  {
   "cell_type": "markdown",
   "metadata": {},
   "source": [
    "#Coefficient estimate is 0.3684 without intercept.\n",
    "\n",
    "\n",
    "std error is 0.020 .\n",
    "\n",
    "t-stat is 18.515"
   ]
  },
  {
   "cell_type": "markdown",
   "metadata": {},
   "source": [
    "T-stat values are same in y ~ x as well as x ~ y"
   ]
  },
  {
   "cell_type": "code",
   "execution_count": null,
   "metadata": {},
   "outputs": [],
   "source": []
  },
  {
   "cell_type": "code",
   "execution_count": 11,
   "metadata": {},
   "outputs": [
    {
     "name": "stdout",
     "output_type": "stream",
     "text": [
      "                            OLS Regression Results                            \n",
      "==============================================================================\n",
      "Dep. Variable:                      y   R-squared:                       0.840\n",
      "Model:                            OLS   Adj. R-squared:                  0.838\n",
      "Method:                 Least Squares   F-statistic:                     514.1\n",
      "Date:                Tue, 13 Apr 2021   Prob (F-statistic):           9.10e-41\n",
      "Time:                        16:53:17   Log-Likelihood:                -128.03\n",
      "No. Observations:                 100   AIC:                             260.1\n",
      "Df Residuals:                      98   BIC:                             265.3\n",
      "Df Model:                           1                                         \n",
      "Covariance Type:            nonrobust                                         \n",
      "==============================================================================\n",
      "                 coef    std err          t      P>|t|      [0.025      0.975]\n",
      "------------------------------------------------------------------------------\n",
      "const          0.1539      0.088      1.741      0.085      -0.022       0.329\n",
      "x1             2.0302      0.090     22.673      0.000       1.853       2.208\n",
      "==============================================================================\n",
      "Omnibus:                        1.452   Durbin-Watson:                   1.985\n",
      "Prob(Omnibus):                  0.484   Jarque-Bera (JB):                1.276\n",
      "Skew:                           0.114   Prob(JB):                        0.528\n",
      "Kurtosis:                       2.496   Cond. No.                         1.11\n",
      "==============================================================================\n",
      "\n",
      "Notes:\n",
      "[1] Standard Errors assume that the covariance matrix of the errors is correctly specified.\n"
     ]
    }
   ],
   "source": [
    "results3 = sm.OLS(y,sm.add_constant(x)).fit()\n",
    "print(results3.summary())"
   ]
  },
  {
   "cell_type": "code",
   "execution_count": 12,
   "metadata": {},
   "outputs": [
    {
     "name": "stdout",
     "output_type": "stream",
     "text": [
      "[-1.98311381 -1.38363138 -0.09396898 -1.47217354  0.43516044  1.49035179\n",
      "  0.22757358 -0.28878504  0.26183839  1.81511022  1.27358266 -0.69323864\n",
      " -0.77814808  1.4717893   0.50293268  0.35261199 -0.05541789 -0.30880695\n",
      "  0.49018675  0.03390477  0.44571344 -0.26564537 -0.52332214 -0.5262477\n",
      " -0.19258546  0.54463989 -1.5702506  -1.53859265  0.91794291 -0.55665515\n",
      " -0.74854899  0.99402287 -0.04286976 -1.36758271 -1.80383895 -0.07549093\n",
      "  0.05855471  1.55697152 -0.39440136 -0.33509289  0.86841025  0.56410513\n",
      " -0.48552858  0.67586523 -1.19776665 -1.62042718  1.83156082 -1.42476179\n",
      " -0.60767092 -0.70209358 -1.23735675 -1.31665726  0.50516431 -1.65321537\n",
      " -1.3772735   0.78316901  2.02961238 -0.534376   -0.17283728 -0.67822365\n",
      "  0.32085296 -0.81623268 -0.08018058 -1.57986918 -0.59969546 -0.83655629\n",
      " -0.35439352 -1.40094651 -1.19736089  0.63210755  0.47900524 -0.30829484\n",
      " -0.12113993 -0.11359977  1.75945539  1.29029863  0.7241326   0.54270064\n",
      "  0.21980153 -0.97887454  0.25995047  1.90557931  0.32296968 -0.34968759\n",
      " -0.57918628 -0.41457038  0.03920203 -1.47877582  2.54638131 -0.47145344\n",
      " -0.66003677  0.70274635 -0.93752184 -0.71852281  1.53841751 -0.34161976\n",
      "  0.77723851  0.40708369 -0.90815154  0.8484836 ]\n"
     ]
    }
   ],
   "source": [
    "print(x)"
   ]
  },
  {
   "cell_type": "code",
   "execution_count": 13,
   "metadata": {},
   "outputs": [
    {
     "name": "stdout",
     "output_type": "stream",
     "text": [
      "                            OLS Regression Results                            \n",
      "==============================================================================\n",
      "Dep. Variable:                      y   R-squared:                       0.840\n",
      "Model:                            OLS   Adj. R-squared:                  0.838\n",
      "Method:                 Least Squares   F-statistic:                     514.1\n",
      "Date:                Tue, 13 Apr 2021   Prob (F-statistic):           9.10e-41\n",
      "Time:                        16:53:18   Log-Likelihood:                -48.491\n",
      "No. Observations:                 100   AIC:                             101.0\n",
      "Df Residuals:                      98   BIC:                             106.2\n",
      "Df Model:                           1                                         \n",
      "Covariance Type:            nonrobust                                         \n",
      "==============================================================================\n",
      "                 coef    std err          t      P>|t|      [0.025      0.975]\n",
      "------------------------------------------------------------------------------\n",
      "const         -0.0793      0.040     -1.999      0.048      -0.158      -0.001\n",
      "x1             0.4137      0.018     22.673      0.000       0.377       0.450\n",
      "==============================================================================\n",
      "Omnibus:                        0.486   Durbin-Watson:                   2.060\n",
      "Prob(Omnibus):                  0.784   Jarque-Bera (JB):                0.629\n",
      "Skew:                           0.058   Prob(JB):                        0.730\n",
      "Kurtosis:                       2.629   Cond. No.                         2.18\n",
      "==============================================================================\n",
      "\n",
      "Notes:\n",
      "[1] Standard Errors assume that the covariance matrix of the errors is correctly specified.\n"
     ]
    }
   ],
   "source": [
    "results3 = sm.OLS(x,sm.add_constant(y)).fit()\n",
    "print(results3.summary())"
   ]
  },
  {
   "cell_type": "markdown",
   "metadata": {},
   "source": [
    "#T-stat values are same in y ~ x as well as x ~ y even if we add intercept"
   ]
  },
  {
   "cell_type": "markdown",
   "metadata": {},
   "source": [
    "#hence, the t-static value is the same for x,y as well as y,x in both cases"
   ]
  },
  {
   "cell_type": "code",
   "execution_count": null,
   "metadata": {},
   "outputs": [],
   "source": []
  }
 ],
 "metadata": {
  "kernelspec": {
   "display_name": "Python 3",
   "language": "python",
   "name": "python3"
  }
 },
 "nbformat": 4,
 "nbformat_minor": 4
}
