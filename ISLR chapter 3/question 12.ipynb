{
 "cells": [
  {
   "cell_type": "code",
   "execution_count": 2,
   "metadata": {},
   "outputs": [],
   "source": [
    "# %load ../standard_import.txt\n",
    "import pandas as pd\n",
    "import numpy as np\n",
    "import matplotlib.pyplot as plt\n",
    "from mpl_toolkits.mplot3d import axes3d\n",
    "import seaborn as sns\n",
    "\n",
    "from sklearn.preprocessing import scale\n",
    "import sklearn.linear_model as skl_lm\n",
    "from sklearn.metrics import mean_squared_error, r2_score\n",
    "import statsmodels.api as sm\n",
    "import statsmodels.formula.api as smf\n",
    "\n",
    "\n",
    "from sklearn.model_selection import train_test_split \n",
    "from sklearn.linear_model import LinearRegression\n",
    "from sklearn import metrics\n",
    "%matplotlib inline\n",
    "%matplotlib inline\n",
    "plt.style.use('seaborn-white')"
   ]
  },
  {
   "cell_type": "markdown",
   "metadata": {},
   "source": [
    "#coefficient is same when the coeff is 1 , possible in 2 cases , when i take y=+-x and also when i take y to be the permutation of x values"
   ]
  },
  {
   "cell_type": "code",
   "execution_count": 3,
   "metadata": {},
   "outputs": [],
   "source": [
    "import random as rn"
   ]
  },
  {
   "cell_type": "code",
   "execution_count": 4,
   "metadata": {},
   "outputs": [],
   "source": [
    "rn.seed(1)"
   ]
  },
  {
   "cell_type": "code",
   "execution_count": 15,
   "metadata": {},
   "outputs": [],
   "source": [
    "x=np.random.normal(0,1,100)\n",
    "y=np.random.normal(0,1,100)\n"
   ]
  },
  {
   "cell_type": "code",
   "execution_count": 16,
   "metadata": {},
   "outputs": [
    {
     "name": "stdout",
     "output_type": "stream",
     "text": [
      "[-0.60261752 -0.31155815  1.76245558  0.96158826  0.3453729   1.40114229\n",
      " -0.44507502  0.0529366   1.48691909  1.12340808  1.43956685  1.14964743\n",
      "  1.29064207  0.67673353 -0.59199699  0.1966281   1.18749911  1.54008428\n",
      "  0.11843278  0.49917018  1.32436     0.67612345 -0.9391361   0.85559064\n",
      "  0.68868996 -0.28555875 -0.05485622  1.45610909  0.20975468  0.61420884\n",
      " -0.99217764 -0.55091627 -1.40097989 -0.18863835  0.63177205 -1.18420213\n",
      " -0.14244041  0.13489499  0.01880598 -0.55837602  0.08407043  0.57081365\n",
      " -1.42670967  1.25945359 -0.1700423   2.12898395  0.32881758  1.41240195\n",
      "  1.95562355  1.04343225 -0.98986814  0.0905375   0.01996731 -0.65858369\n",
      " -1.48131688 -0.80101885  0.26024854 -0.87522227 -0.76074545 -0.53905674\n",
      " -1.14301661 -0.48115482  1.35592226 -1.80203575 -0.05158075 -0.52325276\n",
      " -0.53907782 -0.80587896  0.31415767  1.38518267  0.99306078 -1.29119305\n",
      "  0.32745849  0.21979571  2.7877815   0.40541233 -0.75596573  1.09350034\n",
      " -0.55077105  1.07117682  0.75426583  1.39755785  2.41000184 -0.46602375\n",
      "  0.70126913  1.22956471  0.29877193  0.88755562 -0.52056252  0.21508912\n",
      " -0.71856768  0.48404204 -1.02819241 -0.0248671   0.64330717  0.55645379\n",
      "  0.44032221 -1.89895849  1.38164132 -0.89396741]\n"
     ]
    }
   ],
   "source": [
    "print(x)"
   ]
  },
  {
   "cell_type": "code",
   "execution_count": 17,
   "metadata": {},
   "outputs": [
    {
     "name": "stdout",
     "output_type": "stream",
     "text": [
      "[-1.78443079  0.31837718  1.10161303 -0.6791144   1.14552705  0.91948668\n",
      " -0.34023611  2.01608067  1.40548696 -1.41971542  0.22410716  1.56357832\n",
      " -0.19202663  1.17166606 -0.49462553  0.37953124 -0.35240542  0.380511\n",
      " -0.45858984  0.95345728  0.4875565  -1.23284395 -0.10576238 -0.04305451\n",
      "  0.57782368  0.04817821  0.07962164 -0.17592358  0.03739499  1.14568254\n",
      " -0.29023888  0.95827181  0.63633089 -0.81945669  0.41565172 -0.97656679\n",
      " -1.84438985 -0.09450195 -0.19072708  0.02764546 -0.47919357 -0.96396512\n",
      " -0.68922508 -0.90931589  0.28397093  1.26203783  0.481614   -0.15561422\n",
      " -2.19942555 -0.09999137  1.29219493  0.52044979 -0.30373682  0.5123197\n",
      "  0.88864656  2.00985887  1.49096882 -1.00503356  2.18197328  0.76428909\n",
      "  0.15697231  0.05453963 -0.58191673 -0.48415683 -1.20399996  1.21314687\n",
      "  2.19271465  0.62341951  1.16424576  0.17749606  0.07779415 -0.64592798\n",
      " -1.16570209 -0.74601214 -1.02097734  0.95258427  0.7397868  -0.87288005\n",
      " -0.78667406 -3.40885806 -0.55522424  0.76147055 -1.7881709   1.26766767\n",
      " -1.010419   -0.54042373 -0.05232936  0.02887852 -0.50624925 -0.86939905\n",
      " -1.1434045   0.84847011 -0.29699807  0.38618952  0.56370796 -2.08854167\n",
      "  0.15042561  0.88066571 -0.34701571  0.92647544]\n"
     ]
    }
   ],
   "source": [
    "print(y)"
   ]
  },
  {
   "cell_type": "code",
   "execution_count": 18,
   "metadata": {},
   "outputs": [
    {
     "name": "stdout",
     "output_type": "stream",
     "text": [
      "                                 OLS Regression Results                                \n",
      "=======================================================================================\n",
      "Dep. Variable:                      y   R-squared (uncentered):                   0.021\n",
      "Model:                            OLS   Adj. R-squared (uncentered):              0.011\n",
      "Method:                 Least Squares   F-statistic:                              2.141\n",
      "Date:                Mon, 12 Apr 2021   Prob (F-statistic):                       0.147\n",
      "Time:                        22:54:22   Log-Likelihood:                         -141.18\n",
      "No. Observations:                 100   AIC:                                      284.4\n",
      "Df Residuals:                      99   BIC:                                      287.0\n",
      "Df Model:                           1                                                  \n",
      "Covariance Type:            nonrobust                                                  \n",
      "==============================================================================\n",
      "                 coef    std err          t      P>|t|      [0.025      0.975]\n",
      "------------------------------------------------------------------------------\n",
      "x1            -0.1470      0.100     -1.463      0.147      -0.346       0.052\n",
      "==============================================================================\n",
      "Omnibus:                        2.146   Durbin-Watson:                   1.786\n",
      "Prob(Omnibus):                  0.342   Jarque-Bera (JB):                1.586\n",
      "Skew:                          -0.277   Prob(JB):                        0.453\n",
      "Kurtosis:                       3.270   Cond. No.                         1.00\n",
      "==============================================================================\n",
      "\n",
      "Notes:\n",
      "[1] R² is computed without centering (uncentered) since the model does not contain a constant.\n",
      "[2] Standard Errors assume that the covariance matrix of the errors is correctly specified.\n"
     ]
    }
   ],
   "source": [
    "results = sm.OLS(y, x).fit()\n",
    "print(results.summary())"
   ]
  },
  {
   "cell_type": "code",
   "execution_count": 19,
   "metadata": {},
   "outputs": [
    {
     "name": "stdout",
     "output_type": "stream",
     "text": [
      "                                 OLS Regression Results                                \n",
      "=======================================================================================\n",
      "Dep. Variable:                      y   R-squared (uncentered):                   0.021\n",
      "Model:                            OLS   Adj. R-squared (uncentered):              0.011\n",
      "Method:                 Least Squares   F-statistic:                              2.141\n",
      "Date:                Mon, 12 Apr 2021   Prob (F-statistic):                       0.147\n",
      "Time:                        22:54:58   Log-Likelihood:                         -140.15\n",
      "No. Observations:                 100   AIC:                                      282.3\n",
      "Df Residuals:                      99   BIC:                                      284.9\n",
      "Df Model:                           1                                                  \n",
      "Covariance Type:            nonrobust                                                  \n",
      "==============================================================================\n",
      "                 coef    std err          t      P>|t|      [0.025      0.975]\n",
      "------------------------------------------------------------------------------\n",
      "x1            -0.1440      0.098     -1.463      0.147      -0.339       0.051\n",
      "==============================================================================\n",
      "Omnibus:                        1.461   Durbin-Watson:                   1.704\n",
      "Prob(Omnibus):                  0.482   Jarque-Bera (JB):                1.214\n",
      "Skew:                           0.060   Prob(JB):                        0.545\n",
      "Kurtosis:                       2.474   Cond. No.                         1.00\n",
      "==============================================================================\n",
      "\n",
      "Notes:\n",
      "[1] R² is computed without centering (uncentered) since the model does not contain a constant.\n",
      "[2] Standard Errors assume that the covariance matrix of the errors is correctly specified.\n"
     ]
    }
   ],
   "source": [
    "results = sm.OLS(x, y).fit()\n",
    "print(results.summary())"
   ]
  },
  {
   "cell_type": "markdown",
   "metadata": {},
   "source": [
    "#In this example , we took 2 random arrays and thus got different coefficients "
   ]
  },
  {
   "cell_type": "markdown",
   "metadata": {},
   "source": [
    "\n",
    "\n",
    "\n",
    "Now, if we take y=x, y =-x pr y as permutation of x , then we get the same coefficient in both cases. y  ~ x as well as x ~  y"
   ]
  },
  {
   "cell_type": "code",
   "execution_count": 13,
   "metadata": {},
   "outputs": [
    {
     "name": "stdout",
     "output_type": "stream",
     "text": [
      "                                 OLS Regression Results                                \n",
      "=======================================================================================\n",
      "Dep. Variable:                      y   R-squared (uncentered):                   1.000\n",
      "Model:                            OLS   Adj. R-squared (uncentered):              1.000\n",
      "Method:                 Least Squares   F-statistic:                          7.491e+32\n",
      "Date:                Mon, 12 Apr 2021   Prob (F-statistic):                        0.00\n",
      "Time:                        22:52:12   Log-Likelihood:                          3424.6\n",
      "No. Observations:                 100   AIC:                                     -6847.\n",
      "Df Residuals:                      99   BIC:                                     -6845.\n",
      "Df Model:                           1                                                  \n",
      "Covariance Type:            nonrobust                                                  \n",
      "==============================================================================\n",
      "                 coef    std err          t      P>|t|      [0.025      0.975]\n",
      "------------------------------------------------------------------------------\n",
      "x1             1.0000   3.65e-17   2.74e+16      0.000       1.000       1.000\n",
      "==============================================================================\n",
      "Omnibus:                        5.693   Durbin-Watson:                   1.918\n",
      "Prob(Omnibus):                  0.058   Jarque-Bera (JB):                6.767\n",
      "Skew:                          -0.275   Prob(JB):                       0.0339\n",
      "Kurtosis:                       4.150   Cond. No.                         1.00\n",
      "==============================================================================\n",
      "\n",
      "Notes:\n",
      "[1] R² is computed without centering (uncentered) since the model does not contain a constant.\n",
      "[2] Standard Errors assume that the covariance matrix of the errors is correctly specified.\n"
     ]
    }
   ],
   "source": [
    "x=np.random.normal(0,1,100)\n",
    "y = x\n",
    "\n",
    "results3 = sm.OLS(x,y).fit()\n",
    "print(results3.summary())"
   ]
  },
  {
   "cell_type": "code",
   "execution_count": 14,
   "metadata": {},
   "outputs": [
    {
     "name": "stdout",
     "output_type": "stream",
     "text": [
      "                                 OLS Regression Results                                \n",
      "=======================================================================================\n",
      "Dep. Variable:                      y   R-squared (uncentered):                   0.009\n",
      "Model:                            OLS   Adj. R-squared (uncentered):             -0.001\n",
      "Method:                 Least Squares   F-statistic:                             0.9251\n",
      "Date:                Mon, 12 Apr 2021   Prob (F-statistic):                       0.338\n",
      "Time:                        22:52:38   Log-Likelihood:                         -153.10\n",
      "No. Observations:                 100   AIC:                                      308.2\n",
      "Df Residuals:                      99   BIC:                                      310.8\n",
      "Df Model:                           1                                                  \n",
      "Covariance Type:            nonrobust                                                  \n",
      "==============================================================================\n",
      "                 coef    std err          t      P>|t|      [0.025      0.975]\n",
      "------------------------------------------------------------------------------\n",
      "x1            -0.0962      0.100     -0.962      0.338      -0.295       0.102\n",
      "==============================================================================\n",
      "Omnibus:                        1.155   Durbin-Watson:                   1.581\n",
      "Prob(Omnibus):                  0.561   Jarque-Bera (JB):                1.197\n",
      "Skew:                          -0.246   Prob(JB):                        0.550\n",
      "Kurtosis:                       2.789   Cond. No.                         1.00\n",
      "==============================================================================\n",
      "\n",
      "Notes:\n",
      "[1] R² is computed without centering (uncentered) since the model does not contain a constant.\n",
      "[2] Standard Errors assume that the covariance matrix of the errors is correctly specified.\n",
      "                                 OLS Regression Results                                \n",
      "=======================================================================================\n",
      "Dep. Variable:                      y   R-squared (uncentered):                   0.009\n",
      "Model:                            OLS   Adj. R-squared (uncentered):             -0.001\n",
      "Method:                 Least Squares   F-statistic:                             0.9251\n",
      "Date:                Mon, 12 Apr 2021   Prob (F-statistic):                       0.338\n",
      "Time:                        22:52:38   Log-Likelihood:                         -153.10\n",
      "No. Observations:                 100   AIC:                                      308.2\n",
      "Df Residuals:                      99   BIC:                                      310.8\n",
      "Df Model:                           1                                                  \n",
      "Covariance Type:            nonrobust                                                  \n",
      "==============================================================================\n",
      "                 coef    std err          t      P>|t|      [0.025      0.975]\n",
      "------------------------------------------------------------------------------\n",
      "x1            -0.0962      0.100     -0.962      0.338      -0.295       0.102\n",
      "==============================================================================\n",
      "Omnibus:                        1.700   Durbin-Watson:                   1.492\n",
      "Prob(Omnibus):                  0.427   Jarque-Bera (JB):                1.678\n",
      "Skew:                          -0.237   Prob(JB):                        0.432\n",
      "Kurtosis:                       2.579   Cond. No.                         1.00\n",
      "==============================================================================\n",
      "\n",
      "Notes:\n",
      "[1] R² is computed without centering (uncentered) since the model does not contain a constant.\n",
      "[2] Standard Errors assume that the covariance matrix of the errors is correctly specified.\n"
     ]
    }
   ],
   "source": [
    "x=np.random.normal(0,1,100)\n",
    "\n",
    "y = np.random.permutation(x)\n",
    "res = sm.OLS(x,y).fit()\n",
    "print(res.summary())\n",
    "res1 = sm.OLS(y,x).fit()\n",
    "print(res1.summary())"
   ]
  },
  {
   "cell_type": "code",
   "execution_count": null,
   "metadata": {},
   "outputs": [],
   "source": [
    "."
   ]
  }
 ],
 "metadata": {
  "kernelspec": {
   "display_name": "Python 3",
   "language": "python",
   "name": "python3"
  },
  "language_info": {
   "codemirror_mode": {
    "name": "ipython",
    "version": 3
   },
   "file_extension": ".py",
   "mimetype": "text/x-python",
   "name": "python",
   "nbconvert_exporter": "python",
   "pygments_lexer": "ipython3",
   "version": "3.8.5"
  }
 },
 "nbformat": 4,
 "nbformat_minor": 4
}
