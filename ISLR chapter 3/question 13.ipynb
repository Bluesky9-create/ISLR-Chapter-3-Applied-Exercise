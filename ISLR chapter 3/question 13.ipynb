{
 "cells": [
  {
   "cell_type": "code",
   "execution_count": 1,
   "metadata": {},
   "outputs": [],
   "source": [
    "# %load ../standard_import.txt\n",
    "import pandas as pd\n",
    "import numpy as np\n",
    "import matplotlib.pyplot as plt\n",
    "from mpl_toolkits.mplot3d import axes3d\n",
    "import seaborn as sns\n",
    "\n",
    "from sklearn.preprocessing import scale\n",
    "import sklearn.linear_model as skl_lm\n",
    "from sklearn.metrics import mean_squared_error, r2_score\n",
    "import statsmodels.api as sm\n",
    "import statsmodels.formula.api as smf\n",
    "\n",
    "\n",
    "from sklearn.model_selection import train_test_split \n",
    "from sklearn.linear_model import LinearRegression\n",
    "from sklearn import metrics\n",
    "%matplotlib inline\n",
    "%matplotlib inline\n",
    "plt.style.use('seaborn-white')\n",
    "\n",
    "import statsmodels.api as sm\n",
    "from patsy import dmatrices\n",
    "import random as rn"
   ]
  },
  {
   "cell_type": "code",
   "execution_count": 2,
   "metadata": {},
   "outputs": [],
   "source": [
    "rn.seed(1)"
   ]
  },
  {
   "cell_type": "code",
   "execution_count": 3,
   "metadata": {},
   "outputs": [
    {
     "data": {
      "text/plain": [
       "100"
      ]
     },
     "execution_count": 3,
     "metadata": {},
     "output_type": "execute_result"
    }
   ],
   "source": [
    "x=np.random.normal(0,1,100)\n",
    "eps=np.random.normal(0,0.25,100)\n",
    "y=-1+ 0.5*x + eps\n",
    "len(y)"
   ]
  },
  {
   "cell_type": "markdown",
   "metadata": {},
   "source": [
    "#Vector length is 100"
   ]
  },
  {
   "cell_type": "code",
   "execution_count": 4,
   "metadata": {},
   "outputs": [
    {
     "name": "stdout",
     "output_type": "stream",
     "text": [
      "           0         1\n",
      "0   0.011213 -0.964814\n",
      "1   1.846488  0.403172\n",
      "2  -0.469880 -1.311513\n",
      "3  -0.118318 -1.318650\n",
      "4  -0.476216 -1.205482\n",
      "..       ...       ...\n",
      "95 -1.271662 -1.539130\n",
      "96 -2.056607 -2.129282\n",
      "97  0.596275 -0.860449\n",
      "98 -0.242262 -1.032547\n",
      "99  0.194165 -1.313167\n",
      "\n",
      "[100 rows x 2 columns]\n"
     ]
    }
   ],
   "source": [
    "array1 = np.array([x,y])\n",
    "array1=np.transpose(array1)\n",
    "dataset=pd.DataFrame(array1)\n",
    "print(dataset)"
   ]
  },
  {
   "cell_type": "code",
   "execution_count": 5,
   "metadata": {},
   "outputs": [
    {
     "data": {
      "text/plain": [
       "<seaborn.axisgrid.PairGrid at 0x2331b2d92b0>"
      ]
     },
     "execution_count": 5,
     "metadata": {},
     "output_type": "execute_result"
    },
    {
     "data": {
      "image/png": "[encoded data removed]",
      "text/plain": [
       "<Figure size 360x360 with 6 Axes>"
      ]
     },
     "metadata": {},
     "output_type": "display_data"
    }
   ],
   "source": [
    "sns.pairplot(dataset)"
   ]
  },
  {
   "cell_type": "code",
   "execution_count": 6,
   "metadata": {},
   "outputs": [
    {
     "data": {
      "text/plain": [
       "100"
      ]
     },
     "execution_count": 6,
     "metadata": {},
     "output_type": "execute_result"
    }
   ],
   "source": [
    "len(x)"
   ]
  },
  {
   "cell_type": "code",
   "execution_count": 7,
   "metadata": {},
   "outputs": [
    {
     "name": "stdout",
     "output_type": "stream",
     "text": [
      "                            OLS Regression Results                            \n",
      "==============================================================================\n",
      "Dep. Variable:                      y   R-squared:                       0.786\n",
      "Model:                            OLS   Adj. R-squared:                  0.783\n",
      "Method:                 Least Squares   F-statistic:                     359.3\n",
      "Date:                Tue, 13 Apr 2021   Prob (F-statistic):           1.51e-34\n",
      "Time:                        18:58:21   Log-Likelihood:                0.51563\n",
      "No. Observations:                 100   AIC:                             2.969\n",
      "Df Residuals:                      98   BIC:                             8.179\n",
      "Df Model:                           1                                         \n",
      "Covariance Type:            nonrobust                                         \n",
      "==============================================================================\n",
      "                 coef    std err          t      P>|t|      [0.025      0.975]\n",
      "------------------------------------------------------------------------------\n",
      "const         -1.0185      0.024    -41.828      0.000      -1.067      -0.970\n",
      "x1             0.5112      0.027     18.954      0.000       0.458       0.565\n",
      "==============================================================================\n",
      "Omnibus:                        0.840   Durbin-Watson:                   2.263\n",
      "Prob(Omnibus):                  0.657   Jarque-Bera (JB):                0.382\n",
      "Skew:                          -0.012   Prob(JB):                        0.826\n",
      "Kurtosis:                       3.302   Cond. No.                         1.12\n",
      "==============================================================================\n",
      "\n",
      "Notes:\n",
      "[1] Standard Errors assume that the covariance matrix of the errors is correctly specified.\n"
     ]
    }
   ],
   "source": [
    "results2 = sm.OLS(y,sm.add_constant(x)).fit()\n",
    "print(results2.summary())"
   ]
  },
  {
   "cell_type": "code",
   "execution_count": 8,
   "metadata": {},
   "outputs": [
    {
     "name": "stdout",
     "output_type": "stream",
     "text": [
      "beta dash not and beta dash one are greater than beta not and beta one by0.05510000000000004 and 0.031200000000000006\n"
     ]
    }
   ],
   "source": [
    "print('beta dash not and beta dash one are greater than beta not and beta one by'+str(1-0.9449)+\" and \"+str(0.5312-0.5))"
   ]
  },
  {
   "cell_type": "code",
   "execution_count": null,
   "metadata": {},
   "outputs": [],
   "source": []
  },
  {
   "cell_type": "code",
   "execution_count": 9,
   "metadata": {},
   "outputs": [
    {
     "name": "stdout",
     "output_type": "stream",
     "text": [
      "                            OLS Regression Results                            \n",
      "==============================================================================\n",
      "Dep. Variable:                      y   R-squared:                       0.786\n",
      "Model:                            OLS   Adj. R-squared:                  0.783\n",
      "Method:                 Least Squares   F-statistic:                     359.3\n",
      "Date:                Tue, 13 Apr 2021   Prob (F-statistic):           1.51e-34\n",
      "Time:                        18:58:21   Log-Likelihood:                0.51563\n",
      "No. Observations:                 100   AIC:                             2.969\n",
      "Df Residuals:                      98   BIC:                             8.179\n",
      "Df Model:                           1                                         \n",
      "Covariance Type:            nonrobust                                         \n",
      "==============================================================================\n",
      "                 coef    std err          t      P>|t|      [0.025      0.975]\n",
      "------------------------------------------------------------------------------\n",
      "Intercept     -1.0185      0.024    -41.828      0.000      -1.067      -0.970\n",
      "x              0.5112      0.027     18.954      0.000       0.458       0.565\n",
      "==============================================================================\n",
      "Omnibus:                        0.840   Durbin-Watson:                   2.263\n",
      "Prob(Omnibus):                  0.657   Jarque-Bera (JB):                0.382\n",
      "Skew:                          -0.012   Prob(JB):                        0.826\n",
      "Kurtosis:                       3.302   Cond. No.                         1.12\n",
      "==============================================================================\n",
      "\n",
      "Notes:\n",
      "[1] Standard Errors assume that the covariance matrix of the errors is correctly specified.\n"
     ]
    }
   ],
   "source": [
    "from sklearn.linear_model import LinearRegression\n",
    "lr = LinearRegression()\n",
    "y,x=dmatrices('y~x+x**2')\n",
    "results3 = sm.OLS(y,x).fit()\n",
    "print(results3.summary())"
   ]
  },
  {
   "cell_type": "code",
   "execution_count": 10,
   "metadata": {},
   "outputs": [
    {
     "name": "stdout",
     "output_type": "stream",
     "text": [
      "                            OLS Regression Results                            \n",
      "==============================================================================\n",
      "Dep. Variable:                      y   R-squared:                       0.786\n",
      "Model:                            OLS   Adj. R-squared:                  0.783\n",
      "Method:                 Least Squares   F-statistic:                     359.3\n",
      "Date:                Tue, 13 Apr 2021   Prob (F-statistic):           1.51e-34\n",
      "Time:                        18:58:21   Log-Likelihood:                0.51563\n",
      "No. Observations:                 100   AIC:                             2.969\n",
      "Df Residuals:                      98   BIC:                             8.179\n",
      "Df Model:                           1                                         \n",
      "Covariance Type:            nonrobust                                         \n",
      "==============================================================================\n",
      "                 coef    std err          t      P>|t|      [0.025      0.975]\n",
      "------------------------------------------------------------------------------\n",
      "Intercept     -1.0185      0.024    -41.828      0.000      -1.067      -0.970\n",
      "x              0.5112      0.027     18.954      0.000       0.458       0.565\n",
      "==============================================================================\n",
      "Omnibus:                        0.840   Durbin-Watson:                   2.263\n",
      "Prob(Omnibus):                  0.657   Jarque-Bera (JB):                0.382\n",
      "Skew:                          -0.012   Prob(JB):                        0.826\n",
      "Kurtosis:                       3.302   Cond. No.                         1.12\n",
      "==============================================================================\n",
      "\n",
      "Notes:\n",
      "[1] Standard Errors assume that the covariance matrix of the errors is correctly specified.\n"
     ]
    }
   ],
   "source": [
    "mod2=sm.OLS(y,x)\n",
    "res2=mod2.fit()\n",
    "print(res2.summary())"
   ]
  },
  {
   "cell_type": "code",
   "execution_count": 11,
   "metadata": {},
   "outputs": [
    {
     "data": {
      "text/html": [
       "<div>\n",
       "<style scoped>\n",
       "    .dataframe tbody tr th:only-of-type {\n",
       "        vertical-align: middle;\n",
       "    }\n",
       "\n",
       "    .dataframe tbody tr th {\n",
       "        vertical-align: top;\n",
       "    }\n",
       "\n",
       "    .dataframe thead th {\n",
       "        text-align: right;\n",
       "    }\n",
       "</style>\n",
       "<table border=\"1\" class=\"dataframe\">\n",
       "  <thead>\n",
       "    <tr style=\"text-align: right;\">\n",
       "      <th></th>\n",
       "      <th>mean</th>\n",
       "      <th>mean_se</th>\n",
       "      <th>mean_ci_lower</th>\n",
       "      <th>mean_ci_upper</th>\n",
       "      <th>obs_ci_lower</th>\n",
       "      <th>obs_ci_upper</th>\n",
       "    </tr>\n",
       "  </thead>\n",
       "  <tbody>\n",
       "    <tr>\n",
       "      <th>0</th>\n",
       "      <td>-0.504600</td>\n",
       "      <td>0.026007</td>\n",
       "      <td>-0.556210</td>\n",
       "      <td>-0.452990</td>\n",
       "      <td>-0.989916</td>\n",
       "      <td>-0.019285</td>\n",
       "    </tr>\n",
       "    <tr>\n",
       "      <th>1</th>\n",
       "      <td>-1.674560</td>\n",
       "      <td>0.046799</td>\n",
       "      <td>-1.767431</td>\n",
       "      <td>-1.581688</td>\n",
       "      <td>-2.165979</td>\n",
       "      <td>-1.183141</td>\n",
       "    </tr>\n",
       "    <tr>\n",
       "      <th>2</th>\n",
       "      <td>-0.191827</td>\n",
       "      <td>0.037732</td>\n",
       "      <td>-0.266705</td>\n",
       "      <td>-0.116950</td>\n",
       "      <td>-0.680165</td>\n",
       "      <td>0.296511</td>\n",
       "    </tr>\n",
       "    <tr>\n",
       "      <th>3</th>\n",
       "      <td>-0.553541</td>\n",
       "      <td>0.035827</td>\n",
       "      <td>-0.624637</td>\n",
       "      <td>-0.482444</td>\n",
       "      <td>-1.041313</td>\n",
       "      <td>-0.065768</td>\n",
       "    </tr>\n",
       "    <tr>\n",
       "      <th>4</th>\n",
       "      <td>-0.131175</td>\n",
       "      <td>0.035075</td>\n",
       "      <td>-0.200781</td>\n",
       "      <td>-0.061569</td>\n",
       "      <td>-0.618733</td>\n",
       "      <td>0.356383</td>\n",
       "    </tr>\n",
       "    <tr>\n",
       "      <th>...</th>\n",
       "      <td>...</td>\n",
       "      <td>...</td>\n",
       "      <td>...</td>\n",
       "      <td>...</td>\n",
       "      <td>...</td>\n",
       "      <td>...</td>\n",
       "    </tr>\n",
       "    <tr>\n",
       "      <th>95</th>\n",
       "      <td>0.508437</td>\n",
       "      <td>0.053051</td>\n",
       "      <td>0.403160</td>\n",
       "      <td>0.613715</td>\n",
       "      <td>0.014523</td>\n",
       "      <td>1.002351</td>\n",
       "    </tr>\n",
       "    <tr>\n",
       "      <th>96</th>\n",
       "      <td>1.006238</td>\n",
       "      <td>0.078116</td>\n",
       "      <td>0.851220</td>\n",
       "      <td>1.161256</td>\n",
       "      <td>0.499387</td>\n",
       "      <td>1.513089</td>\n",
       "    </tr>\n",
       "    <tr>\n",
       "      <th>97</th>\n",
       "      <td>-1.047137</td>\n",
       "      <td>0.026730</td>\n",
       "      <td>-1.100182</td>\n",
       "      <td>-0.994092</td>\n",
       "      <td>-1.532607</td>\n",
       "      <td>-0.561667</td>\n",
       "    </tr>\n",
       "    <tr>\n",
       "      <th>98</th>\n",
       "      <td>-0.281058</td>\n",
       "      <td>0.028761</td>\n",
       "      <td>-0.338133</td>\n",
       "      <td>-0.223984</td>\n",
       "      <td>-0.766985</td>\n",
       "      <td>0.204869</td>\n",
       "    </tr>\n",
       "    <tr>\n",
       "      <th>99</th>\n",
       "      <td>-0.869002</td>\n",
       "      <td>0.035486</td>\n",
       "      <td>-0.939423</td>\n",
       "      <td>-0.798582</td>\n",
       "      <td>-1.356677</td>\n",
       "      <td>-0.381328</td>\n",
       "    </tr>\n",
       "  </tbody>\n",
       "</table>\n",
       "<p>100 rows × 6 columns</p>\n",
       "</div>"
      ],
      "text/plain": [
       "        mean   mean_se  mean_ci_lower  mean_ci_upper  obs_ci_lower  \\\n",
       "0  -0.504600  0.026007      -0.556210      -0.452990     -0.989916   \n",
       "1  -1.674560  0.046799      -1.767431      -1.581688     -2.165979   \n",
       "2  -0.191827  0.037732      -0.266705      -0.116950     -0.680165   \n",
       "3  -0.553541  0.035827      -0.624637      -0.482444     -1.041313   \n",
       "4  -0.131175  0.035075      -0.200781      -0.061569     -0.618733   \n",
       "..       ...       ...            ...            ...           ...   \n",
       "95  0.508437  0.053051       0.403160       0.613715      0.014523   \n",
       "96  1.006238  0.078116       0.851220       1.161256      0.499387   \n",
       "97 -1.047137  0.026730      -1.100182      -0.994092     -1.532607   \n",
       "98 -0.281058  0.028761      -0.338133      -0.223984     -0.766985   \n",
       "99 -0.869002  0.035486      -0.939423      -0.798582     -1.356677   \n",
       "\n",
       "    obs_ci_upper  \n",
       "0      -0.019285  \n",
       "1      -1.183141  \n",
       "2       0.296511  \n",
       "3      -0.065768  \n",
       "4       0.356383  \n",
       "..           ...  \n",
       "95      1.002351  \n",
       "96      1.513089  \n",
       "97     -0.561667  \n",
       "98      0.204869  \n",
       "99     -0.381328  \n",
       "\n",
       "[100 rows x 6 columns]"
      ]
     },
     "execution_count": 11,
     "metadata": {},
     "output_type": "execute_result"
    }
   ],
   "source": [
    "predictions = results3.get_prediction(dataset)\n",
    "predictions.summary_frame(alpha=0.05)"
   ]
  },
  {
   "cell_type": "markdown",
   "metadata": {},
   "source": [
    "#eps_less is the less noisy noise vector and eps_more is the  more  noisy noise vector."
   ]
  },
  {
   "cell_type": "code",
   "execution_count": 12,
   "metadata": {},
   "outputs": [],
   "source": [
    "x=np.random.normal(0,1,100)\n",
    "eps_lessn=np.random.normal(0,0.2,100)\n",
    "eps_moren=np.random.normal(0,1,100)\n",
    "y=-1+0.5*x+eps_lessn\n",
    "y2=-1+0.5*x+eps_moren\n"
   ]
  },
  {
   "cell_type": "code",
   "execution_count": 13,
   "metadata": {},
   "outputs": [
    {
     "name": "stdout",
     "output_type": "stream",
     "text": [
      "                            OLS Regression Results                            \n",
      "==============================================================================\n",
      "Dep. Variable:                      y   R-squared:                       0.877\n",
      "Model:                            OLS   Adj. R-squared:                  0.876\n",
      "Method:                 Least Squares   F-statistic:                     699.2\n",
      "Date:                Tue, 13 Apr 2021   Prob (F-statistic):           2.12e-46\n",
      "Time:                        18:58:21   Log-Likelihood:                 19.453\n",
      "No. Observations:                 100   AIC:                            -34.91\n",
      "Df Residuals:                      98   BIC:                            -29.70\n",
      "Df Model:                           1                                         \n",
      "Covariance Type:            nonrobust                                         \n",
      "==============================================================================\n",
      "                 coef    std err          t      P>|t|      [0.025      0.975]\n",
      "------------------------------------------------------------------------------\n",
      "const         -0.9901      0.020    -48.868      0.000      -1.030      -0.950\n",
      "x1             0.5120      0.019     26.442      0.000       0.474       0.550\n",
      "==============================================================================\n",
      "Omnibus:                        0.121   Durbin-Watson:                   1.837\n",
      "Prob(Omnibus):                  0.941   Jarque-Bera (JB):                0.262\n",
      "Skew:                           0.067   Prob(JB):                        0.877\n",
      "Kurtosis:                       2.787   Cond. No.                         1.13\n",
      "==============================================================================\n",
      "\n",
      "Notes:\n",
      "[1] Standard Errors assume that the covariance matrix of the errors is correctly specified.\n"
     ]
    },
    {
     "data": {
      "text/html": [
       "<div>\n",
       "<style scoped>\n",
       "    .dataframe tbody tr th:only-of-type {\n",
       "        vertical-align: middle;\n",
       "    }\n",
       "\n",
       "    .dataframe tbody tr th {\n",
       "        vertical-align: top;\n",
       "    }\n",
       "\n",
       "    .dataframe thead th {\n",
       "        text-align: right;\n",
       "    }\n",
       "</style>\n",
       "<table border=\"1\" class=\"dataframe\">\n",
       "  <thead>\n",
       "    <tr style=\"text-align: right;\">\n",
       "      <th></th>\n",
       "      <th>mean</th>\n",
       "      <th>mean_se</th>\n",
       "      <th>mean_ci_lower</th>\n",
       "      <th>mean_ci_upper</th>\n",
       "      <th>obs_ci_lower</th>\n",
       "      <th>obs_ci_upper</th>\n",
       "    </tr>\n",
       "  </thead>\n",
       "  <tbody>\n",
       "    <tr>\n",
       "      <th>0</th>\n",
       "      <td>-0.505059</td>\n",
       "      <td>0.018655</td>\n",
       "      <td>-0.542080</td>\n",
       "      <td>-0.468038</td>\n",
       "      <td>-0.906081</td>\n",
       "      <td>-0.104038</td>\n",
       "    </tr>\n",
       "    <tr>\n",
       "      <th>1</th>\n",
       "      <td>-1.621813</td>\n",
       "      <td>0.039101</td>\n",
       "      <td>-1.699408</td>\n",
       "      <td>-1.544218</td>\n",
       "      <td>-2.028591</td>\n",
       "      <td>-1.215034</td>\n",
       "    </tr>\n",
       "    <tr>\n",
       "      <th>2</th>\n",
       "      <td>-0.206224</td>\n",
       "      <td>0.028143</td>\n",
       "      <td>-0.262073</td>\n",
       "      <td>-0.150375</td>\n",
       "      <td>-0.609420</td>\n",
       "      <td>0.196972</td>\n",
       "    </tr>\n",
       "    <tr>\n",
       "      <th>3</th>\n",
       "      <td>-0.557962</td>\n",
       "      <td>0.025922</td>\n",
       "      <td>-0.609403</td>\n",
       "      <td>-0.506522</td>\n",
       "      <td>-0.960571</td>\n",
       "      <td>-0.155353</td>\n",
       "    </tr>\n",
       "    <tr>\n",
       "      <th>4</th>\n",
       "      <td>-0.145666</td>\n",
       "      <td>0.026279</td>\n",
       "      <td>-0.197815</td>\n",
       "      <td>-0.093517</td>\n",
       "      <td>-0.548366</td>\n",
       "      <td>0.257034</td>\n",
       "    </tr>\n",
       "    <tr>\n",
       "      <th>...</th>\n",
       "      <td>...</td>\n",
       "      <td>...</td>\n",
       "      <td>...</td>\n",
       "      <td>...</td>\n",
       "      <td>...</td>\n",
       "      <td>...</td>\n",
       "    </tr>\n",
       "    <tr>\n",
       "      <th>95</th>\n",
       "      <td>0.471094</td>\n",
       "      <td>0.041612</td>\n",
       "      <td>0.388516</td>\n",
       "      <td>0.553673</td>\n",
       "      <td>0.063336</td>\n",
       "      <td>0.878853</td>\n",
       "    </tr>\n",
       "    <tr>\n",
       "      <th>96</th>\n",
       "      <td>0.946135</td>\n",
       "      <td>0.061951</td>\n",
       "      <td>0.823195</td>\n",
       "      <td>1.069075</td>\n",
       "      <td>0.528329</td>\n",
       "      <td>1.363941</td>\n",
       "    </tr>\n",
       "    <tr>\n",
       "      <th>97</th>\n",
       "      <td>-1.030902</td>\n",
       "      <td>0.019401</td>\n",
       "      <td>-1.069404</td>\n",
       "      <td>-0.992401</td>\n",
       "      <td>-1.432063</td>\n",
       "      <td>-0.629742</td>\n",
       "    </tr>\n",
       "    <tr>\n",
       "      <th>98</th>\n",
       "      <td>-0.288768</td>\n",
       "      <td>0.021136</td>\n",
       "      <td>-0.330712</td>\n",
       "      <td>-0.246824</td>\n",
       "      <td>-0.690274</td>\n",
       "      <td>0.112738</td>\n",
       "    </tr>\n",
       "    <tr>\n",
       "      <th>99</th>\n",
       "      <td>-0.864548</td>\n",
       "      <td>0.025269</td>\n",
       "      <td>-0.914694</td>\n",
       "      <td>-0.814403</td>\n",
       "      <td>-1.266994</td>\n",
       "      <td>-0.462103</td>\n",
       "    </tr>\n",
       "  </tbody>\n",
       "</table>\n",
       "<p>100 rows × 6 columns</p>\n",
       "</div>"
      ],
      "text/plain": [
       "        mean   mean_se  mean_ci_lower  mean_ci_upper  obs_ci_lower  \\\n",
       "0  -0.505059  0.018655      -0.542080      -0.468038     -0.906081   \n",
       "1  -1.621813  0.039101      -1.699408      -1.544218     -2.028591   \n",
       "2  -0.206224  0.028143      -0.262073      -0.150375     -0.609420   \n",
       "3  -0.557962  0.025922      -0.609403      -0.506522     -0.960571   \n",
       "4  -0.145666  0.026279      -0.197815      -0.093517     -0.548366   \n",
       "..       ...       ...            ...            ...           ...   \n",
       "95  0.471094  0.041612       0.388516       0.553673      0.063336   \n",
       "96  0.946135  0.061951       0.823195       1.069075      0.528329   \n",
       "97 -1.030902  0.019401      -1.069404      -0.992401     -1.432063   \n",
       "98 -0.288768  0.021136      -0.330712      -0.246824     -0.690274   \n",
       "99 -0.864548  0.025269      -0.914694      -0.814403     -1.266994   \n",
       "\n",
       "    obs_ci_upper  \n",
       "0      -0.104038  \n",
       "1      -1.215034  \n",
       "2       0.196972  \n",
       "3      -0.155353  \n",
       "4       0.257034  \n",
       "..           ...  \n",
       "95      0.878853  \n",
       "96      1.363941  \n",
       "97     -0.629742  \n",
       "98      0.112738  \n",
       "99     -0.462103  \n",
       "\n",
       "[100 rows x 6 columns]"
      ]
     },
     "execution_count": 13,
     "metadata": {},
     "output_type": "execute_result"
    }
   ],
   "source": [
    "#less noise\n",
    "mod=sm.OLS(y,sm.add_constant(x))\n",
    "res=mod.fit()\n",
    "print(res.summary())\n",
    "predictions = res.get_prediction(dataset)\n",
    "predictions.summary_frame(alpha=0.05)"
   ]
  },
  {
   "cell_type": "code",
   "execution_count": 14,
   "metadata": {},
   "outputs": [
    {
     "name": "stdout",
     "output_type": "stream",
     "text": [
      "                            OLS Regression Results                            \n",
      "==============================================================================\n",
      "Dep. Variable:                      y   R-squared:                       0.266\n",
      "Model:                            OLS   Adj. R-squared:                  0.258\n",
      "Method:                 Least Squares   F-statistic:                     35.45\n",
      "Date:                Tue, 13 Apr 2021   Prob (F-statistic):           4.09e-08\n",
      "Time:                        18:58:22   Log-Likelihood:                -146.48\n",
      "No. Observations:                 100   AIC:                             297.0\n",
      "Df Residuals:                      98   BIC:                             302.2\n",
      "Df Model:                           1                                         \n",
      "Covariance Type:            nonrobust                                         \n",
      "==============================================================================\n",
      "                 coef    std err          t      P>|t|      [0.025      0.975]\n",
      "------------------------------------------------------------------------------\n",
      "const         -0.8326      0.106     -7.819      0.000      -1.044      -0.621\n",
      "x1             0.6058      0.102      5.954      0.000       0.404       0.808\n",
      "==============================================================================\n",
      "Omnibus:                        2.461   Durbin-Watson:                   2.318\n",
      "Prob(Omnibus):                  0.292   Jarque-Bera (JB):                1.900\n",
      "Skew:                          -0.176   Prob(JB):                        0.387\n",
      "Kurtosis:                       2.424   Cond. No.                         1.13\n",
      "==============================================================================\n",
      "\n",
      "Notes:\n",
      "[1] Standard Errors assume that the covariance matrix of the errors is correctly specified.\n"
     ]
    },
    {
     "data": {
      "text/html": [
       "<div>\n",
       "<style scoped>\n",
       "    .dataframe tbody tr th:only-of-type {\n",
       "        vertical-align: middle;\n",
       "    }\n",
       "\n",
       "    .dataframe tbody tr th {\n",
       "        vertical-align: top;\n",
       "    }\n",
       "\n",
       "    .dataframe thead th {\n",
       "        text-align: right;\n",
       "    }\n",
       "</style>\n",
       "<table border=\"1\" class=\"dataframe\">\n",
       "  <thead>\n",
       "    <tr style=\"text-align: right;\">\n",
       "      <th></th>\n",
       "      <th>mean</th>\n",
       "      <th>mean_se</th>\n",
       "      <th>mean_ci_lower</th>\n",
       "      <th>mean_ci_upper</th>\n",
       "      <th>obs_ci_lower</th>\n",
       "      <th>obs_ci_upper</th>\n",
       "    </tr>\n",
       "  </thead>\n",
       "  <tbody>\n",
       "    <tr>\n",
       "      <th>0</th>\n",
       "      <td>-0.593848</td>\n",
       "      <td>0.098045</td>\n",
       "      <td>-0.788415</td>\n",
       "      <td>-0.399282</td>\n",
       "      <td>-2.701440</td>\n",
       "      <td>1.513744</td>\n",
       "    </tr>\n",
       "    <tr>\n",
       "      <th>1</th>\n",
       "      <td>-1.293146</td>\n",
       "      <td>0.205498</td>\n",
       "      <td>-1.700950</td>\n",
       "      <td>-0.885341</td>\n",
       "      <td>-3.430993</td>\n",
       "      <td>0.844702</td>\n",
       "    </tr>\n",
       "    <tr>\n",
       "      <th>2</th>\n",
       "      <td>-0.403327</td>\n",
       "      <td>0.147908</td>\n",
       "      <td>-0.696845</td>\n",
       "      <td>-0.109809</td>\n",
       "      <td>-2.522346</td>\n",
       "      <td>1.715692</td>\n",
       "    </tr>\n",
       "    <tr>\n",
       "      <th>3</th>\n",
       "      <td>-0.700363</td>\n",
       "      <td>0.136233</td>\n",
       "      <td>-0.970713</td>\n",
       "      <td>-0.430014</td>\n",
       "      <td>-2.816297</td>\n",
       "      <td>1.415571</td>\n",
       "    </tr>\n",
       "    <tr>\n",
       "      <th>4</th>\n",
       "      <td>-0.333815</td>\n",
       "      <td>0.138109</td>\n",
       "      <td>-0.607889</td>\n",
       "      <td>-0.059741</td>\n",
       "      <td>-2.450228</td>\n",
       "      <td>1.782598</td>\n",
       "    </tr>\n",
       "    <tr>\n",
       "      <th>...</th>\n",
       "      <td>...</td>\n",
       "      <td>...</td>\n",
       "      <td>...</td>\n",
       "      <td>...</td>\n",
       "      <td>...</td>\n",
       "      <td>...</td>\n",
       "    </tr>\n",
       "    <tr>\n",
       "      <th>95</th>\n",
       "      <td>0.126345</td>\n",
       "      <td>0.218696</td>\n",
       "      <td>-0.307649</td>\n",
       "      <td>0.560340</td>\n",
       "      <td>-2.016652</td>\n",
       "      <td>2.269343</td>\n",
       "    </tr>\n",
       "    <tr>\n",
       "      <th>96</th>\n",
       "      <td>0.422365</td>\n",
       "      <td>0.325588</td>\n",
       "      <td>-0.223754</td>\n",
       "      <td>1.068484</td>\n",
       "      <td>-1.773440</td>\n",
       "      <td>2.618169</td>\n",
       "    </tr>\n",
       "    <tr>\n",
       "      <th>97</th>\n",
       "      <td>-1.017747</td>\n",
       "      <td>0.101964</td>\n",
       "      <td>-1.220092</td>\n",
       "      <td>-0.815403</td>\n",
       "      <td>-3.126072</td>\n",
       "      <td>1.090577</td>\n",
       "    </tr>\n",
       "    <tr>\n",
       "      <th>98</th>\n",
       "      <td>-0.423837</td>\n",
       "      <td>0.111083</td>\n",
       "      <td>-0.644278</td>\n",
       "      <td>-0.203397</td>\n",
       "      <td>-2.533975</td>\n",
       "      <td>1.686300</td>\n",
       "    </tr>\n",
       "    <tr>\n",
       "      <th>99</th>\n",
       "      <td>-0.957218</td>\n",
       "      <td>0.132803</td>\n",
       "      <td>-1.220760</td>\n",
       "      <td>-0.693675</td>\n",
       "      <td>-3.072293</td>\n",
       "      <td>1.157858</td>\n",
       "    </tr>\n",
       "  </tbody>\n",
       "</table>\n",
       "<p>100 rows × 6 columns</p>\n",
       "</div>"
      ],
      "text/plain": [
       "        mean   mean_se  mean_ci_lower  mean_ci_upper  obs_ci_lower  \\\n",
       "0  -0.593848  0.098045      -0.788415      -0.399282     -2.701440   \n",
       "1  -1.293146  0.205498      -1.700950      -0.885341     -3.430993   \n",
       "2  -0.403327  0.147908      -0.696845      -0.109809     -2.522346   \n",
       "3  -0.700363  0.136233      -0.970713      -0.430014     -2.816297   \n",
       "4  -0.333815  0.138109      -0.607889      -0.059741     -2.450228   \n",
       "..       ...       ...            ...            ...           ...   \n",
       "95  0.126345  0.218696      -0.307649       0.560340     -2.016652   \n",
       "96  0.422365  0.325588      -0.223754       1.068484     -1.773440   \n",
       "97 -1.017747  0.101964      -1.220092      -0.815403     -3.126072   \n",
       "98 -0.423837  0.111083      -0.644278      -0.203397     -2.533975   \n",
       "99 -0.957218  0.132803      -1.220760      -0.693675     -3.072293   \n",
       "\n",
       "    obs_ci_upper  \n",
       "0       1.513744  \n",
       "1       0.844702  \n",
       "2       1.715692  \n",
       "3       1.415571  \n",
       "4       1.782598  \n",
       "..           ...  \n",
       "95      2.269343  \n",
       "96      2.618169  \n",
       "97      1.090577  \n",
       "98      1.686300  \n",
       "99      1.157858  \n",
       "\n",
       "[100 rows x 6 columns]"
      ]
     },
     "execution_count": 14,
     "metadata": {},
     "output_type": "execute_result"
    }
   ],
   "source": [
    "#more noise\n",
    "mod=sm.OLS(y2,sm.add_constant(x))\n",
    "res=mod.fit()\n",
    "print(res.summary())\n",
    "predictions = res.get_prediction(dataset)\n",
    "predictions.summary_frame(alpha=0.05)\n"
   ]
  },
  {
   "cell_type": "markdown",
   "metadata": {},
   "source": [
    "#The prediction interval predicts in what range a future individual observation will fall, while a confidence interval shows the likely range of values associated with some statistical parameter of the data, such as the population mean."
   ]
  },
  {
   "cell_type": "code",
   "execution_count": 15,
   "metadata": {},
   "outputs": [],
   "source": [
    "x = dataset.iloc[:, :-1].values\n",
    "y = dataset.iloc[:, 1].values\n"
   ]
  },
  {
   "cell_type": "code",
   "execution_count": 16,
   "metadata": {},
   "outputs": [],
   "source": [
    "from sklearn.model_selection import train_test_split\n",
    "x_train, x_test, y_train, y_test = train_test_split(x, y, test_size = 1/3)"
   ]
  },
  {
   "cell_type": "code",
   "execution_count": 17,
   "metadata": {},
   "outputs": [
    {
     "data": {
      "text/plain": [
       "LinearRegression()"
      ]
     },
     "execution_count": 17,
     "metadata": {},
     "output_type": "execute_result"
    }
   ],
   "source": [
    "from sklearn.linear_model import LinearRegression\n",
    "lr = LinearRegression()\n",
    "lr.fit(x_train, y_train)"
   ]
  },
  {
   "cell_type": "code",
   "execution_count": 18,
   "metadata": {},
   "outputs": [],
   "source": [
    "y_pred = lr.predict(x_test)\n",
    "                    "
   ]
  },
  {
   "cell_type": "code",
   "execution_count": 19,
   "metadata": {},
   "outputs": [
    {
     "data": {
      "image/png": "[encoded data removed]",
      "text/plain": [
       "<Figure size 432x288 with 1 Axes>"
      ]
     },
     "metadata": {},
     "output_type": "display_data"
    }
   ],
   "source": [
    "y_actual=-1+ 0.5*x\n",
    "plt.plot(x, y_actual, color = \"blue\")\n",
    "plt.scatter(x,y, color= \"red\")\n",
    "plt.plot(x_train, lr.predict(x_train), color = \"green\")\n",
    "plt.title(\"Y_predicted vs x (Training set)\")\n",
    "plt.xlabel(\"Y_predicted\")\n",
    "plt.ylabel(\"x\")\n",
    "plt.show()"
   ]
  },
  {
   "cell_type": "code",
   "execution_count": null,
   "metadata": {},
   "outputs": [],
   "source": []
  }
 ],
 "metadata": {
  "kernelspec": {
   "display_name": "Python 3",
   "language": "python",
   "name": "python3"
  },
  "language_info": {
   "codemirror_mode": {
    "name": "ipython",
    "version": 3
   },
   "file_extension": ".py",
   "mimetype": "text/x-python",
   "name": "python",
   "nbconvert_exporter": "python",
   "pygments_lexer": "ipython3",
   "version": "3.8.5"
  }
 },
 "nbformat": 4,
 "nbformat_minor": 4
}
